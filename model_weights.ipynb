{
 "cells": [
  {
   "cell_type": "code",
   "execution_count": 1,
   "metadata": {},
   "outputs": [],
   "source": [
    "import pandas as pd\n",
    "import numpy as np\n",
    "from sklearn.preprocessing import MinMaxScaler\n",
    "from sklearn.model_selection import train_test_split\n",
    "from sklearn.svm import SVR\n",
    "\n",
    "excel_loc = \"results.xlsx\"\n",
    "frame_raw = pd.read_excel(excel_loc, sheet_name=0, index_col=0).drop([\"Run\"], axis=1)"
   ]
  },
  {
   "cell_type": "code",
   "execution_count": 7,
   "metadata": {},
   "outputs": [],
   "source": [
    "from sklearn.metrics import mean_squared_error\n",
    "\n",
    "def train(target_col, effect_cols):\n",
    "    # read the frame\n",
    "    # minmax scale\n",
    "    scaler = MinMaxScaler()\n",
    "    scaler.fit(frame_raw)\n",
    "    frame_scaled = frame_raw[0:0].copy()\n",
    "    frame_scaled[:] = scaler.transform(frame_raw)\n",
    "    frame_scaled[effect_cols] = 0 # zero out consequences\n",
    "    \n",
    "    # split\n",
    "    x, y = frame_scaled.loc[:, frame_raw.columns != target_col], frame_scaled.loc[:, frame_raw.columns == target_col] \n",
    "    x_train, x_test, y_train, y_test = train_test_split(x, y, test_size=0.2)\n",
    "    \n",
    "    # train\n",
    "    svr = SVR(kernel='linear')\n",
    "    svr.fit(x_train, y_train)\n",
    "    \n",
    "    # r2\n",
    "    y_pred = svr.predict(x_test)\n",
    "    mse = mean_squared_error(y_test, y_pred)\n",
    "    \n",
    "    # return weights\n",
    "    return svr.coef_, svr.intercept_, mse"
   ]
  },
  {
   "cell_type": "code",
   "execution_count": 32,
   "metadata": {},
   "outputs": [
    {
     "name": "stdout",
     "output_type": "stream",
     "text": [
      "=== peak_r0 ===\n",
      "   num_infec_agents  num_uninfec_agents  num_rec_agents  hours_per_day  \\\n",
      "0          0.280666            0.225278        0.094345        0.08187   \n",
      "\n",
      "   mask_efficacy  num_humans  \n",
      "0       0.087162    0.230679  \n",
      "=== length ===\n",
      "   num_infec_agents  num_uninfec_agents  num_rec_agents  hours_per_day  \\\n",
      "0          0.018576            0.150425        0.046191       0.640335   \n",
      "\n",
      "   mask_efficacy  num_humans  \n",
      "0       0.001377    0.143095  \n",
      "=== peak_infection ===\n",
      "   num_infec_agents  num_uninfec_agents  num_rec_agents  hours_per_day  \\\n",
      "0          0.008331            0.480484        0.032215       0.000052   \n",
      "\n",
      "   mask_efficacy  num_humans  \n",
      "0       0.000285    0.478633  \n",
      "=== peak_infection_loc ===\n",
      "   num_infec_agents  num_uninfec_agents  num_rec_agents  hours_per_day  \\\n",
      "0          0.027737            0.353868        0.117409       0.133875   \n",
      "\n",
      "   mask_efficacy  num_humans  \n",
      "0       0.002775    0.364337  \n",
      "=== peak_infection_pct ===\n",
      "   num_infec_agents  num_uninfec_agents  num_rec_agents  hours_per_day  \\\n",
      "0          0.107521            0.153233        0.077275       0.416119   \n",
      "\n",
      "   mask_efficacy  num_humans  \n",
      "0       0.083643    0.162209  \n",
      "=== peak_r0_loc ===\n",
      "   num_infec_agents  num_uninfec_agents  num_rec_agents  hours_per_day  \\\n",
      "0      5.118088e-13            0.076776    3.412059e-13       0.693243   \n",
      "\n",
      "   mask_efficacy  num_humans  \n",
      "0       0.154152    0.075829  \n"
     ]
    },
    {
     "name": "stderr",
     "output_type": "stream",
     "text": [
      "A:\\Users\\bcwarner\\Anaconda3\\envs\\covid\\lib\\site-packages\\sklearn\\utils\\validation.py:73: DataConversionWarning: A column-vector y was passed when a 1d array was expected. Please change the shape of y to (n_samples, ), for example using ravel().\n",
      "  return f(**kwargs)\n",
      "A:\\Users\\bcwarner\\Anaconda3\\envs\\covid\\lib\\site-packages\\sklearn\\utils\\validation.py:73: DataConversionWarning: A column-vector y was passed when a 1d array was expected. Please change the shape of y to (n_samples, ), for example using ravel().\n",
      "  return f(**kwargs)\n",
      "A:\\Users\\bcwarner\\Anaconda3\\envs\\covid\\lib\\site-packages\\sklearn\\utils\\validation.py:73: DataConversionWarning: A column-vector y was passed when a 1d array was expected. Please change the shape of y to (n_samples, ), for example using ravel().\n",
      "  return f(**kwargs)\n",
      "A:\\Users\\bcwarner\\Anaconda3\\envs\\covid\\lib\\site-packages\\sklearn\\utils\\validation.py:73: DataConversionWarning: A column-vector y was passed when a 1d array was expected. Please change the shape of y to (n_samples, ), for example using ravel().\n",
      "  return f(**kwargs)\n",
      "A:\\Users\\bcwarner\\Anaconda3\\envs\\covid\\lib\\site-packages\\sklearn\\utils\\validation.py:73: DataConversionWarning: A column-vector y was passed when a 1d array was expected. Please change the shape of y to (n_samples, ), for example using ravel().\n",
      "  return f(**kwargs)\n",
      "A:\\Users\\bcwarner\\Anaconda3\\envs\\covid\\lib\\site-packages\\sklearn\\utils\\validation.py:73: DataConversionWarning: A column-vector y was passed when a 1d array was expected. Please change the shape of y to (n_samples, ), for example using ravel().\n",
      "  return f(**kwargs)\n"
     ]
    }
   ],
   "source": [
    "cor = [\"peak_r0\", \"length\", \"peak_infection\", \"peak_infection_loc\", \"peak_infection_pct\", \"peak_r0_loc\", \"cleans_per_day\"]\n",
    "for x in cor:\n",
    "    if x == \"cleans_per_day\":\n",
    "        continue # constant throughout runs so 0 correlation\n",
    "    other = [y for y in cor if y != x]\n",
    "    res, intercept, mse = train(x, other)\n",
    "    res_abs = np.abs(res) / np.sum(np.abs(res))\n",
    "    res_abs_df = pd.DataFrame([res_abs[res_abs != 0]], columns=[y for y in frame_raw.columns if y not in cor and x != y])\n",
    "    print(f\"=== {x} ===\")\n",
    "    print(res_abs_df)"
   ]
  },
  {
   "cell_type": "code",
   "execution_count": 9,
   "metadata": {},
   "outputs": [
    {
     "data": {
      "text/plain": [
       "(array([[-0.0184147 ,  0.01625341,  0.00456528,  0.00602206,  0.        ,\n",
       "          0.0037991 ,  0.        ,  0.01638902,  0.        ,  0.        ,\n",
       "          0.00950753,  0.        ]]),\n",
       " array([0.22936991]),\n",
       " 0.008777221032183473)"
      ]
     },
     "execution_count": 9,
     "metadata": {},
     "output_type": "execute_result"
    }
   ],
   "source": [
    "res"
   ]
  },
  {
   "cell_type": "code",
   "execution_count": null,
   "metadata": {},
   "outputs": [],
   "source": []
  }
 ],
 "metadata": {
  "kernelspec": {
   "display_name": "Python 3",
   "language": "python",
   "name": "python3"
  },
  "language_info": {
   "codemirror_mode": {
    "name": "ipython",
    "version": 3
   },
   "file_extension": ".py",
   "mimetype": "text/x-python",
   "name": "python",
   "nbconvert_exporter": "python",
   "pygments_lexer": "ipython3",
   "version": "3.7.6"
  }
 },
 "nbformat": 4,
 "nbformat_minor": 4
}
