{
 "cells": [
  {
   "cell_type": "code",
   "execution_count": 1,
   "metadata": {},
   "outputs": [],
   "source": [
    "import pandas as pd\n",
    "import numpy as np\n",
    "from sklearn.preprocessing import MinMaxScaler\n",
    "from sklearn.model_selection import train_test_split\n",
    "from sklearn.svm import SVR"
   ]
  },
  {
   "cell_type": "code",
   "execution_count": 57,
   "metadata": {},
   "outputs": [],
   "source": [
    "excel_loc = \"test.xlsx\"\n",
    "\n",
    "def train(target_col):\n",
    "    # read the frame\n",
    "    frame_raw = pd.read_excel(excel_loc, sheet_name=0, index_col=0).drop([\"Run\"], axis=1)\n",
    "    print(frame_raw)\n",
    "    # minmax scale\n",
    "    scaler = MinMaxScaler()\n",
    "    scaler.fit(frame_raw)\n",
    "    frame_scaled = frame_raw[0:0].copy()\n",
    "    frame_scaled[:] = scaler.transform(frame_raw)\n",
    "    print(frame_scaled)\n",
    "    \n",
    "    # split\n",
    "    x, y = frame_scaled.loc[:, frame_raw.columns != target_col], frame_scaled.loc[:, frame_raw.columns == target_col] \n",
    "    x_train, x_test, y_train, y_test = train_test_split(x, y, test_size=0.2)\n",
    "    \n",
    "    # train\n",
    "    svr = SVR(kernel='linear')\n",
    "    svr.fit(x_train, y_train)\n",
    "    \n",
    "    # return weights\n",
    "    return svr.coef_"
   ]
  },
  {
   "cell_type": "code",
   "execution_count": 58,
   "metadata": {},
   "outputs": [
    {
     "name": "stdout",
     "output_type": "stream",
     "text": [
      "   num_infec_agents  num_uninfec_agents  num_rec_agents  mask_efficacy  \\\n",
      "0                 1                  20               0             95   \n",
      "1                 2                  20               0             95   \n",
      "2                 3                  20               0             95   \n",
      "3                 4                  20               0             95   \n",
      "\n",
      "   length  num_humans  peak_infection  peak_infection_loc  peak_infection_pct  \\\n",
      "0     232          22              22                  87            1.000000   \n",
      "1     225          23              23                  68            1.000000   \n",
      "2     272          24              23                  66            0.958333   \n",
      "3     292          25              23                  86            0.920000   \n",
      "\n",
      "    peak_r0  peak_r0_loc  \n",
      "0  2.166667           34  \n",
      "1  2.000000            2  \n",
      "2  1.800000           26  \n",
      "3  1.875000           63  \n",
      "   num_infec_agents  num_uninfec_agents  num_rec_agents  mask_efficacy  \\\n",
      "0          0.000000                 0.0             0.0            0.0   \n",
      "1          0.333333                 0.0             0.0            0.0   \n",
      "2          0.666667                 0.0             0.0            0.0   \n",
      "3          1.000000                 0.0             0.0            0.0   \n",
      "\n",
      "     length  num_humans  peak_infection  peak_infection_loc  \\\n",
      "0  0.104478    0.000000             0.0            1.000000   \n",
      "1  0.000000    0.333333             1.0            0.095238   \n",
      "2  0.701493    0.666667             1.0            0.000000   \n",
      "3  1.000000    1.000000             1.0            0.952381   \n",
      "\n",
      "   peak_infection_pct   peak_r0  peak_r0_loc  \n",
      "0            1.000000  1.000000     0.524590  \n",
      "1            1.000000  0.545455     0.000000  \n",
      "2            0.479167  0.000000     0.393443  \n",
      "3            0.000000  0.204545     1.000000  \n"
     ]
    },
    {
     "name": "stderr",
     "output_type": "stream",
     "text": [
      "A:\\Users\\bcwarner\\Anaconda3\\envs\\covid\\lib\\site-packages\\sklearn\\utils\\validation.py:73: DataConversionWarning: A column-vector y was passed when a 1d array was expected. Please change the shape of y to (n_samples, ), for example using ravel().\n",
      "  return f(**kwargs)\n"
     ]
    },
    {
     "data": {
      "text/plain": [
       "array([[-0.1509242 ,  0.        ,  0.        ,  0.        , -0.135156  ,\n",
       "        -0.1509242 , -0.2263863 ,  0.2263863 ,  0.11790953,  0.02969001]])"
      ]
     },
     "execution_count": 58,
     "metadata": {},
     "output_type": "execute_result"
    }
   ],
   "source": [
    "train(\"peak_r0\")"
   ]
  },
  {
   "cell_type": "code",
   "execution_count": null,
   "metadata": {},
   "outputs": [],
   "source": []
  }
 ],
 "metadata": {
  "kernelspec": {
   "display_name": "Python 3",
   "language": "python",
   "name": "python3"
  },
  "language_info": {
   "codemirror_mode": {
    "name": "ipython",
    "version": 3
   },
   "file_extension": ".py",
   "mimetype": "text/x-python",
   "name": "python",
   "nbconvert_exporter": "python",
   "pygments_lexer": "ipython3",
   "version": "3.7.6"
  }
 },
 "nbformat": 4,
 "nbformat_minor": 4
}
